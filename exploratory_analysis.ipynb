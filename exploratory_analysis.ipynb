{
 "cells": [
  {
   "cell_type": "code",
   "execution_count": null,
   "metadata": {},
   "outputs": [],
   "source": []
  },
  {
   "cell_type": "markdown",
   "metadata": {},
   "source": [
    "## Exploratory analysis of the star collection dataset\n",
    "On this notebook we will make a tour throught the star dataset. This csv contains information about basic properties used on the study of stars such us temperature or theis specroscopy clasification.\n",
    "\n",
    "Let' s load the dataset to have a look to the columns."
   ]
  },
  {
   "cell_type": "markdown",
   "metadata": {},
   "source": []
  },
  {
   "cell_type": "code",
   "execution_count": 2,
   "metadata": {},
   "outputs": [],
   "source": [
    "import pandas as pd"
   ]
  },
  {
   "cell_type": "code",
   "execution_count": 5,
   "metadata": {},
   "outputs": [
    {
     "data": {
      "text/html": [
       "<div>\n",
       "<style scoped>\n",
       "    .dataframe tbody tr th:only-of-type {\n",
       "        vertical-align: middle;\n",
       "    }\n",
       "\n",
       "    .dataframe tbody tr th {\n",
       "        vertical-align: top;\n",
       "    }\n",
       "\n",
       "    .dataframe thead th {\n",
       "        text-align: right;\n",
       "    }\n",
       "</style>\n",
       "<table border=\"1\" class=\"dataframe\">\n",
       "  <thead>\n",
       "    <tr style=\"text-align: right;\">\n",
       "      <th></th>\n",
       "      <th>Name</th>\n",
       "      <th>Distance (ly)</th>\n",
       "      <th>Luminosity (L/Lo)</th>\n",
       "      <th>Radius (R/Ro)</th>\n",
       "      <th>Temperature (K)</th>\n",
       "      <th>Spectral Class</th>\n",
       "    </tr>\n",
       "  </thead>\n",
       "  <tbody>\n",
       "    <tr>\n",
       "      <th>0</th>\n",
       "      <td>Altair</td>\n",
       "      <td>16.594171</td>\n",
       "      <td>9.979192</td>\n",
       "      <td>1.632650</td>\n",
       "      <td>7509.294247</td>\n",
       "      <td>A7V</td>\n",
       "    </tr>\n",
       "    <tr>\n",
       "      <th>1</th>\n",
       "      <td>Deneb</td>\n",
       "      <td>2600.490723</td>\n",
       "      <td>196002.627856</td>\n",
       "      <td>202.970526</td>\n",
       "      <td>8503.284796</td>\n",
       "      <td>A2Ia</td>\n",
       "    </tr>\n",
       "    <tr>\n",
       "      <th>2</th>\n",
       "      <td>Barnard's Star</td>\n",
       "      <td>6.052616</td>\n",
       "      <td>4.893716</td>\n",
       "      <td>0.222711</td>\n",
       "      <td>3165.959639</td>\n",
       "      <td>M4Ve</td>\n",
       "    </tr>\n",
       "    <tr>\n",
       "      <th>3</th>\n",
       "      <td>Polaris</td>\n",
       "      <td>322.601002</td>\n",
       "      <td>2196.241934</td>\n",
       "      <td>37.546813</td>\n",
       "      <td>6048.326915</td>\n",
       "      <td>F7Ib</td>\n",
       "    </tr>\n",
       "    <tr>\n",
       "      <th>4</th>\n",
       "      <td>Barnard's Star</td>\n",
       "      <td>5.902392</td>\n",
       "      <td>-1.496486</td>\n",
       "      <td>0.192359</td>\n",
       "      <td>3130.602069</td>\n",
       "      <td>M4Ve</td>\n",
       "    </tr>\n",
       "    <tr>\n",
       "      <th>5</th>\n",
       "      <td>Sirius</td>\n",
       "      <td>8.370045</td>\n",
       "      <td>25.625363</td>\n",
       "      <td>1.737616</td>\n",
       "      <td>9903.971704</td>\n",
       "      <td>A1V</td>\n",
       "    </tr>\n",
       "    <tr>\n",
       "      <th>6</th>\n",
       "      <td>Fomalhaut</td>\n",
       "      <td>25.423032</td>\n",
       "      <td>19.314803</td>\n",
       "      <td>1.763473</td>\n",
       "      <td>8541.195355</td>\n",
       "      <td>A3V</td>\n",
       "    </tr>\n",
       "    <tr>\n",
       "      <th>7</th>\n",
       "      <td>Capella</td>\n",
       "      <td>42.569578</td>\n",
       "      <td>77.466547</td>\n",
       "      <td>12.015077</td>\n",
       "      <td>4979.492462</td>\n",
       "      <td>G8III</td>\n",
       "    </tr>\n",
       "    <tr>\n",
       "      <th>8</th>\n",
       "      <td>Capella</td>\n",
       "      <td>43.260859</td>\n",
       "      <td>76.753975</td>\n",
       "      <td>11.926446</td>\n",
       "      <td>4907.779549</td>\n",
       "      <td>G8III</td>\n",
       "    </tr>\n",
       "    <tr>\n",
       "      <th>9</th>\n",
       "      <td>Bellatrix</td>\n",
       "      <td>239.864107</td>\n",
       "      <td>6399.344000</td>\n",
       "      <td>5.751379</td>\n",
       "      <td>22573.286177</td>\n",
       "      <td>B2III</td>\n",
       "    </tr>\n",
       "  </tbody>\n",
       "</table>\n",
       "</div>"
      ],
      "text/plain": [
       "             Name  Distance (ly)  Luminosity (L/Lo)  Radius (R/Ro)  \\\n",
       "0          Altair      16.594171           9.979192       1.632650   \n",
       "1           Deneb    2600.490723      196002.627856     202.970526   \n",
       "2  Barnard's Star       6.052616           4.893716       0.222711   \n",
       "3         Polaris     322.601002        2196.241934      37.546813   \n",
       "4  Barnard's Star       5.902392          -1.496486       0.192359   \n",
       "5          Sirius       8.370045          25.625363       1.737616   \n",
       "6       Fomalhaut      25.423032          19.314803       1.763473   \n",
       "7         Capella      42.569578          77.466547      12.015077   \n",
       "8         Capella      43.260859          76.753975      11.926446   \n",
       "9       Bellatrix     239.864107        6399.344000       5.751379   \n",
       "\n",
       "   Temperature (K) Spectral Class  \n",
       "0      7509.294247            A7V  \n",
       "1      8503.284796           A2Ia  \n",
       "2      3165.959639           M4Ve  \n",
       "3      6048.326915           F7Ib  \n",
       "4      3130.602069           M4Ve  \n",
       "5      9903.971704            A1V  \n",
       "6      8541.195355            A3V  \n",
       "7      4979.492462          G8III  \n",
       "8      4907.779549          G8III  \n",
       "9     22573.286177          B2III  "
      ]
     },
     "execution_count": 5,
     "metadata": {},
     "output_type": "execute_result"
    }
   ],
   "source": [
    "dataset = pd.read_csv(\"star_dataset.csv\")\n",
    "dataset.head(10)"
   ]
  },
  {
   "cell_type": "markdown",
   "metadata": {},
   "source": [
    "This dataset is conform by the following columns:\n",
    "* Name: Name of the star.\n",
    "* Distance: Distance from Earth in light years.\n",
    "* Luminosity: Relative Luminosity. This measure is made by refering to the sun brightness if both where in the same place.\n",
    "* Radius: Radius of the star relative to the sun.\n",
    "* Temperature: Temperature of the star in Kelvin\n",
    "* Spectral Class: Code commonly used on the star clasification process. This is correlated with the temperature.\n",
    "We can now search if there are some missing values that we need to handle."
   ]
  },
  {
   "cell_type": "code",
   "execution_count": 7,
   "metadata": {},
   "outputs": [
    {
     "data": {
      "text/plain": [
       "Name                 0\n",
       "Distance (ly)        0\n",
       "Luminosity (L/Lo)    0\n",
       "Radius (R/Ro)        0\n",
       "Temperature (K)      0\n",
       "Spectral Class       0\n",
       "dtype: int64"
      ]
     },
     "execution_count": 7,
     "metadata": {},
     "output_type": "execute_result"
    }
   ],
   "source": [
    "dataset.isna().sum()"
   ]
  },
  {
   "cell_type": "markdown",
   "metadata": {},
   "source": [
    "There are no missing values in a first look but we can see that some names seems to be duplicated with different values. "
   ]
  },
  {
   "cell_type": "code",
   "execution_count": 15,
   "metadata": {},
   "outputs": [
    {
     "data": {
      "text/plain": [
       "29"
      ]
     },
     "execution_count": 15,
     "metadata": {},
     "output_type": "execute_result"
    }
   ],
   "source": [
    "star_name_list = dataset[\"Name\"].unique()\n",
    "len(star_name_list)"
   ]
  },
  {
   "cell_type": "code",
   "execution_count": 21,
   "metadata": {},
   "outputs": [
    {
     "data": {
      "image/png": "[encoded data removed]",
      "text/plain": [
       "<Figure size 640x480 with 1 Axes>"
      ]
     },
     "metadata": {},
     "output_type": "display_data"
    }
   ],
   "source": [
    "%matplotlib inline\n",
    "\n",
    "import matplotlib.pyplot as plt\n",
    "\n",
    "plt.scatter(dataset['Temperature (K)'], dataset['Luminosity (L/Lo)'])\n",
    "plt.xlabel('Temperature (K)')\n",
    "plt.ylabel('Luminosity (L/Lo)')\n",
    "plt.yscale('log')"
   ]
  },
  {
   "cell_type": "code",
   "execution_count": null,
   "metadata": {},
   "outputs": [],
   "source": []
  }
 ],
 "metadata": {
  "kernelspec": {
   "display_name": "Python 3",
   "language": "python",
   "name": "python3"
  },
  "language_info": {
   "codemirror_mode": {
    "name": "ipython",
    "version": 3
   },
   "file_extension": ".py",
   "mimetype": "text/x-python",
   "name": "python",
   "nbconvert_exporter": "python",
   "pygments_lexer": "ipython3",
   "version": "3.11.9"
  }
 },
 "nbformat": 4,
 "nbformat_minor": 2
}
